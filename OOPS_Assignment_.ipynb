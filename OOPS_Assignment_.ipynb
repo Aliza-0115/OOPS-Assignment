{
  "nbformat": 4,
  "nbformat_minor": 0,
  "metadata": {
    "colab": {
      "provenance": []
    },
    "kernelspec": {
      "name": "python3",
      "display_name": "Python 3"
    },
    "language_info": {
      "name": "python"
    }
  },
  "cells": [
    {
      "cell_type": "code",
      "execution_count": null,
      "metadata": {
        "id": "GcTCCuZMazDy"
      },
      "outputs": [],
      "source": [
        "Theory questions and answers:-"
      ]
    },
    {
      "cell_type": "markdown",
      "metadata": {
        "id": "63393794"
      },
      "source": [
        "1. What is Object-Oriented Programming (OOP)?\n",
        "\n",
        "ans- Object-Oriented Programming (OOP) is a programming paradigm that uses \"objects\" – data structures consisting of data fields and methods together with their interactions – to design applications and computer programs."
      ]
    },
    {
      "cell_type": "markdown",
      "metadata": {
        "id": "ada1793e"
      },
      "source": [
        "2. What is a class in OOP?\n",
        "\n",
        "ans- A class is a blueprint or template for creating objects (a particular data structure), providing initial values for state (member variables or attributes), and implementations of behavior (member functions or methods)."
      ]
    },
    {
      "cell_type": "markdown",
      "metadata": {
        "id": "df9a4835"
      },
      "source": [
        "3. What is an object in OOP?\n",
        "\n",
        "ans- An object is an instance of a class. It is a fundamental unit in OOP that represents a real-world entity and encapsulates both data (attributes) and behavior (methods)."
      ]
    },
    {
      "cell_type": "markdown",
      "metadata": {
        "id": "fc68fe92"
      },
      "source": [
        "4. What is the difference between abstraction and encapsulation?\n",
        "\n",
        "ans- Abstraction is the process of hiding complex implementation details and showing only the essential features of an object.\n",
        "abstraction focuses on *what* an object does.\n",
        "\n",
        " Encapsulation is the bundling of data and methods that operate on the data within a single unit (like a class), and restricting direct access to some of the object's components.\n",
        " encapsulation focuses on *how* the data and methods are organized and protected."
      ]
    },
    {
      "cell_type": "markdown",
      "metadata": {
        "id": "bf434565"
      },
      "source": [
        "5. What are dunder methods in Python?\n",
        "\n",
        "ans- Dunder methods (also known as magic methods) in Python are special methods with double underscores at the beginning and end of their names (e.g., `__init__`, `__str__`, `__add__`). They allow you to define how objects of your class interact with built-in operations and functions in Python.\n",
        "\n",
        "For example, `__init__` is called when an object is created, `__str__` is called when you try to get a string representation of an object, and `__add__` is called when you use the `+` operator with objects of your class."
      ]
    },
    {
      "cell_type": "markdown",
      "metadata": {
        "id": "ae2bfd96"
      },
      "source": [
        "6. Explain the concept of inheritance in OOP?\n",
        "\n",
        "ans- Inheritance is a mechanism in object-oriented programming where a new class (subclass or derived class) is created from an existing class (superclass or base class). The subclass inherits attributes and methods from the superclass, allowing for code reusability and the creation of a hierarchical relationship between classes. This means the subclass can use or extend the functionality of the superclass."
      ]
    },
    {
      "cell_type": "markdown",
      "metadata": {
        "id": "6bafe98e"
      },
      "source": [
        "7. What is polymorphism in OOP?\n",
        "\n",
        "ans- Polymorphism (meaning \"many forms\") is the ability of different objects to respond to the same method call in their own way. In OOP, this means that a single function or method name can be used with objects of different classes, and the specific implementation that is executed will depend on the object's type. This allows for more flexible and reusable code."
      ]
    },
    {
      "cell_type": "markdown",
      "metadata": {
        "id": "eb203153"
      },
      "source": [
        "8. How is encapsulation achieved in Python?\n",
        "\n",
        "ans- In Python, encapsulation is achieved through the use of access modifiers, although it doesn't have strict keywords like `public`, `private`, or `protected` as in some other languages. By convention:\n",
        "- **Public members:** Members (attributes and methods) are public by default.\n",
        "- **Protected members:** Members are designated as protected by prefixing their name with a single underscore (e.g., `_protected_member`). This is a convention, and they can still be accessed from outside the class, but it signals that they are intended for internal use or use by subclasses.\n",
        "- **Private members:** Members are designated as private by prefixing their name with a double underscore (e.g., `__private_member`). This triggers name mangling, making it harder to access them directly from outside the class (though not impossible).\n",
        "\n",
        "Encapsulation is also achieved by using getter and setter methods to control access to attributes."
      ]
    },
    {
      "cell_type": "markdown",
      "metadata": {
        "id": "9a00e70e"
      },
      "source": [
        "9. What is a constructor in Python?\n",
        "\n",
        "ans- A constructor in Python is a special method named `__init__`. It is automatically called when you create a new object (instance) of a class. Its primary purpose is to initialize the attributes (data) of the newly created object with initial values. The `self` parameter in the constructor refers to the instance of the class itself."
      ]
    },
    {
      "cell_type": "markdown",
      "metadata": {
        "id": "e0f8228d"
      },
      "source": [
        "10. What are class and static methods in Python?\n",
        "\n",
        "ans- **Class methods** are methods that are bound to the class and not the instance of the class. They take the class itself as the first argument, conventionally named `cls`. Class methods are often used for factory methods that create instances of the class or for methods that operate on class-level data. They are defined using the `@classmethod` decorator.\n",
        "\n",
        "**Static methods** are methods that are not bound to either the class or the instance. They do not take `self` or `cls` as the first argument. Static methods are similar to regular functions but are defined within a class because they are logically related to the class. They are defined using the `@staticmethod` decorator."
      ]
    },
    {
      "cell_type": "markdown",
      "metadata": {
        "id": "f2a1c710"
      },
      "source": [
        "11. What is method overloading in Python?\n",
        "\n",
        "ans- Method overloading is a concept in some programming languages where you can have multiple methods in the same class with the same name but different parameters (either in number or type). When the method is called, the appropriate version is executed based on the arguments provided.\n",
        "\n"
      ]
    },
    {
      "cell_type": "markdown",
      "metadata": {
        "id": "278218d1"
      },
      "source": [
        "12. What is method overriding in OOP?\n",
        "\n",
        "ans- Method overriding is a feature in object-oriented programming that allows a subclass (child class) to provide a specific implementation for a method that is already defined in its superclass (parent class). When a method is called on an object, the specific implementation executed depends on the object's actual type, rather than the type of the reference variable. This allows subclasses to customize or extend the behavior inherited from their superclasses."
      ]
    },
    {
      "cell_type": "markdown",
      "metadata": {
        "id": "a6c0dea2"
      },
      "source": [
        "13. What is a property decorator in Python?\n",
        "\n",
        "ans- The `property` decorator in Python is a built-in decorator that provides a way to use getter and setter methods for class attributes in a more \"Pythonic\" way. It allows you to access methods as if they were attributes, making your code cleaner and more readable.\n",
        "\n",
        "Essentially, it turns a method into a \"property\" of the class. When you access this property, the method decorated with `property` (the getter) is automatically called. You can also define setter and deleter methods for the same property using `property_name.setter` and `property_name.deleter` decorators, respectively. This provides controlled access to your attributes, allowing you to add validation or other logic when getting, setting, or deleting an attribute."
      ]
    },
    {
      "cell_type": "markdown",
      "metadata": {
        "id": "6c8e2f05"
      },
      "source": [
        "14. Why is polymorphism important in OOP?\n",
        "\n",
        "ans- Polymorphism is important in OOP for several reasons:\n",
        "\n",
        "- **Code Reusability:** It allows you to write code that can work with objects of different classes that share a common superclass or interface. This reduces code duplication and makes your code more modular.\n",
        "- **Flexibility and Extensibility:** You can easily add new classes that inherit from a base class and use them with existing code that relies on polymorphism. This makes your code more adaptable to changes and extensions.\n",
        "- **Maintainability:** Code that uses polymorphism is often easier to maintain because changes to a specific class's implementation don't necessarily require changes to the code that uses it, as long as the method signature remains the same.\n",
        "- **Decoupling:** Polymorphism helps to decouple the code that uses objects from the specific implementations of those objects. This leads to more loosely coupled and manageable systems.\n",
        "- **Dynamic Binding:** It allows the appropriate method to be called at runtime based on the actual type of the object, which provides greater flexibility."
      ]
    },
    {
      "cell_type": "markdown",
      "metadata": {
        "id": "e394b7e8"
      },
      "source": [
        "15. What is an abstract class in Python?\n",
        "\n",
        "ans- An abstract class is a class that cannot be instantiated (you cannot create objects directly from it). It is designed to be a blueprint for other classes. Abstract classes often contain one or more abstract methods, which are methods declared but not implemented in the abstract class. Subclasses that inherit from an abstract class are required to provide implementations for all of its abstract methods.\n",
        "\n"
      ]
    },
    {
      "cell_type": "markdown",
      "metadata": {
        "id": "120901e1"
      },
      "source": [
        "16. What are the advantages of OOP?\n",
        "\n",
        "ans- Object-Oriented Programming (OOP) offers several advantages:\n",
        "\n",
        "- **Modularity:** OOP allows you to break down complex systems into smaller, self-contained objects. This makes the code easier to understand, develop, and maintain.\n",
        "- **Reusability:** Through concepts like inheritance, you can reuse existing code in new classes, reducing development time and effort.\n",
        "- **Flexibility:** Polymorphism enables you to write flexible code that can work with objects of different types, making your programs more adaptable to change.\n",
        "- **Maintainability:** Encapsulation and modularity make it easier to modify and update code. Changes in one part of the system are less likely to affect other parts.\n",
        "- **Extensibility:** It's easier to add new features and functionalities to an object-oriented system by creating new classes or extending existing ones.\n",
        "- **Improved Software Development Productivity:** OOP promotes collaborative development as different team members can work on different objects simultaneously.\n",
        "- **Easier Debugging:** Because objects are self-contained, it's often easier to isolate and fix bugs within a specific object."
      ]
    },
    {
      "cell_type": "markdown",
      "metadata": {
        "id": "530266f1"
      },
      "source": [
        "17. What is the difference between a class variable and an instance variable?\n",
        "\n",
        "ans- **Class variables** are variables that are shared among all instances (objects) of a class. They are defined directly within the class but outside of any methods. Class variables are associated with the class itself, not with any specific instance. You can access them using `ClassName.class_variable` or `instance_name.class_variable`. Changes made to a class variable are reflected across all instances of that class.\n",
        "\n",
        "**Instance variables** are variables that are unique to each instance (object) of a class. They are defined within the methods of a class, typically in the `__init__` constructor, using the `self` keyword (e.g., `self.instance_variable`). Instance variables hold data that is specific to a particular object. Each instance of the class has its own copy of the instance variables."
      ]
    },
    {
      "cell_type": "markdown",
      "metadata": {
        "id": "15352314"
      },
      "source": [
        "18. What is multiple inheritance in Python?\n",
        "\n",
        "ans- Multiple inheritance is a feature in object-oriented programming where a class can inherit attributes and methods from more than one parent class. In Python, a class can be defined to inherit from multiple base classes by listing them in the class definition's parentheses, separated by commas.\n",
        "\n"
      ]
    },
    {
      "cell_type": "markdown",
      "metadata": {
        "id": "bf744476"
      },
      "source": [
        "19. Explain the purpose of `__str__` and `__repr__` methods in Python?\n",
        "\n",
        "ans- In Python, both `__str__` and `__repr__` are special methods (dunder methods) used to define how an object is represented as a string. However, they serve different purposes and are intended for different audiences:\n",
        "\n",
        "1. `__str__` (for \"string\"): This method is intended to return a \"readable\" or \"informal\" string representation of an object. It's meant for the end-user and should be easy to understand. The output of `__str__` is typically used by functions like `print()` and `str()`. If a class defines `__repr__` but not `__str__`, the `print()` function will use `__repr__`.\n",
        "\n",
        "2.  `__repr__` (for \"representation\"):** This method is intended to return an \"unambiguous\" or \"formal\" string representation of an object. It's meant for developers and should ideally be a string that, if passed to `eval()`, would recreate the object (assuming the necessary context is available). The output of `__repr__` is typically used in interactive sessions (like the Python interpreter) when you simply type the name of a variable and press Enter, and by the `repr()` function. If a class defines neither `__str__` nor `__repr__`, the default representation is the object's memory address.\n",
        "\n"
      ]
    },
    {
      "cell_type": "markdown",
      "metadata": {
        "id": "73461282"
      },
      "source": [
        "20. What is the significance of the ‘super()’ function in Python?\n",
        "\n",
        "ans- The `super()` function in Python is used to refer to the parent class (or superclass) of the current class. Its primary significance lies in enabling proper inheritance and method overriding in object-oriented programming.\n",
        "\n",
        " `super()` is important because:-\n",
        "\n",
        "- **Calling Parent Class Methods:** The most common use of `super()` is to call a method from the parent class within a method of the child class. This is particularly useful when overriding a method in the child class but still wanting to execute the parent class's implementation of that method. For example, you might extend the functionality of a parent method in the child class and then call the parent's version using `super().method_name()`.\n",
        "\n",
        "- **Accessing Parent Class Attributes:** While less common for direct attribute access, `super()` can also be used to access attributes of the parent class, although this is often handled implicitly through inheritance.\n",
        "\n",
        "- **Working with Multiple Inheritance:** In scenarios involving multiple inheritance, `super()` becomes crucial for correctly navigating the Method Resolution Order (MRO). It ensures that when you call a method using `super()`, Python finds the appropriate method in the next class in the MRO, preventing issues that can arise from the \"diamond problem.\"\n",
        "\n",
        "- **Initialization in `__init__`:** It is common practice in the `__init__` constructor of a child class to call the parent class's `__init__` using `super().__init__(...)`. This ensures that the parent class's attributes are properly initialized before the child class initializes its own attributes.\n",
        "\n",
        "In essence, `super()` provides a way to explicitly and correctly interact with the parent class(es) in an inheritance hierarchy, promoting code reusability and maintaining a clear and predictable flow of execution when dealing with overridden methods and multiple inheritance."
      ]
    },
    {
      "cell_type": "markdown",
      "metadata": {
        "id": "32f1168f"
      },
      "source": [
        "21. What is the significance of the `__del__` method in Python?\n",
        "\n",
        "ans- The significance of `__del__` method in Python :\n",
        "\n",
        "- Resource Management:The most common use case for `__del__` is to ensure that external resources acquired by an object are properly released when the object is no longer needed. This can include closing files, network connections, database connections, or releasing locks. While Python's garbage collector handles memory management automatically, `__del__` is the place to handle non-memory resources.\n",
        "\n",
        "- Cleanup Operations: You can use `__del__` to perform any necessary cleanup operations before an object is removed from memory. This might involve logging, saving state, or notifying other parts of the system that the object is being destroyed.\n",
        "\n",
        "- Alternative to `finally`: In some cases, `__del__` can be seen as an alternative to using `try...finally` blocks for resource management, especially when the resource is tied to the lifetime of an object. However, relying solely on `__del__` for critical resource release can be risky due to the unpredictable nature of garbage collection.\n"
      ]
    },
    {
      "cell_type": "markdown",
      "metadata": {
        "id": "f17443fd"
      },
      "source": [
        "22. What is the difference between `@staticmethod` and `@classmethod` in Python?\n",
        "\n",
        "ans- In Python, both `@staticmethod` and `@classmethod` are decorators used to define methods within a class that behave differently from regular instance methods. The key difference lies in the implicit first argument they receive:\n",
        "\n",
        "- `@classmethod`:\n",
        "    - Takes the class itself as the first argument, conventionally named `cls`.\n",
        "    - Can access and modify class state (class variables).\n",
        "    - Often used for factory methods (methods that return an instance of the class) or methods that operate on class-level data.\n",
        "    - Defined using the `@classmethod` decorator above the method definition.\n",
        "\n",
        "- `@staticmethod`:\n",
        "    - Does not take any implicit first argument (neither the instance `self` nor the class `cls`).\n",
        "    - Cannot access or modify class state or instance state directly.\n",
        "    - Behaves like a regular function that happens to be defined within a class because it is logically related to the class.\n",
        "    - Defined using the `@staticmethod` decorator above the method definition.\n",
        "\n"
      ]
    },
    {
      "cell_type": "markdown",
      "metadata": {
        "id": "bd5d227e"
      },
      "source": [
        "23. How does polymorphism work in Python with inheritance?\n",
        "\n",
        "ans- Polymorphism in Python, particularly with inheritance, works through method overriding and the concept of \"duck typing.\n",
        "\n",
        "\n",
        "1. Method Overriding: When a subclass inherits from a superclass, it can provide its own implementation for a method that is already defined in the superclass. This is called method overriding.\n",
        "\n",
        "2. Duck Typing: Python is a dynamically-typed language and follows the principle of \"duck typing.\" This means that the type of an object is less important than the methods it implements. If an object \"walks like a duck and quacks like a duck,\" Python considers it a duck, regardless of its actual class.\n",
        "\n",
        "\n"
      ]
    },
    {
      "cell_type": "markdown",
      "metadata": {
        "id": "7b0f4b56"
      },
      "source": [
        "24. What is method chaining in Python OOP?\n",
        "\n",
        "ans- Method chaining is a programming technique in object-oriented programming where multiple method calls are strung together on the same object in a single statement. This is possible when a method returns the object itself (usually `self`) after performing its operation.\n",
        "\n",
        "The benefit of method chaining is that it can make code more concise and readable, especially when performing a series of operations on an object. Instead of writing multiple separate lines of code, each calling a method on the object, you can chain the calls together.\n"
      ]
    },
    {
      "cell_type": "markdown",
      "metadata": {
        "id": "38578de1"
      },
      "source": [
        "25. What is the purpose of the `__call__` method in Python?\n",
        "\n",
        "ans- The `__call__` method in Python is a special method that allows an instance of a class to be called like a function. If a class defines a `__call__` method, creating an instance of that class makes the instance \"callable.\"\n",
        "\n",
        "Purpose and Use Cases:\n",
        "\n",
        "- Making objects callable: The primary purpose is to make instances of your classes behave like functions. This can be useful for creating objects that represent a certain operation or behavior that you want to invoke directly.\n",
        "\n",
        "- Functors (Function Objects): Objects that implement `__call__` are sometimes referred to as functors or function objects. They can maintain state (instance variables) between calls, which regular functions cannot do as easily.\n",
        "\n",
        "- Decorators with state: You can use `__call__` to create decorators that have state. The decorator itself can be an instance of a class, and the `__call__` method can wrap the decorated function while accessing or modifying the instance's state.\n",
        "\n",
        "- Classes that act as factories or generators: A class with a `__call__` method can be used to create or generate objects when called.\n",
        "\n",
        "- Implementing custom behavior for object invocation: You can define custom logic that executes whenever an instance of the class is called.\n",
        "\n",
        "In essence, `__call__` provides a way to add function-like behavior to objects, allowing them to be used in contexts where a callable is expected while still maintaining the ability to hold and manage state like a regular object."
      ]
    },
    {
      "cell_type": "markdown",
      "source": [
        "Practical Questions:-"
      ],
      "metadata": {
        "id": "3SNnDxjG4mBi"
      }
    },
    {
      "cell_type": "markdown",
      "source": [
        "1. Create a parent class Animal with a method speak() that prints a generic message. Create a child class Dog that overrides the speak() method to print \"Bark!\""
      ],
      "metadata": {
        "id": "vfX3gNyu4oza"
      }
    },
    {
      "cell_type": "code",
      "source": [
        "class Animal:\n",
        "    def speak(self):\n",
        "        print(\"Generic animal sound\")\n",
        "\n",
        "class Dog(Animal):\n",
        "    def speak(self):\n",
        "        print(\"Bark!\")\n",
        "\n",
        "animal = Animal()\n",
        "animal.speak()\n",
        "\n",
        "dog = Dog()\n",
        "dog.speak()"
      ],
      "metadata": {
        "colab": {
          "base_uri": "https://localhost:8080/"
        },
        "id": "u-8x4i6x4s8M",
        "outputId": "2457d19d-9ba1-48c0-89b1-1764935352fd"
      },
      "execution_count": 3,
      "outputs": [
        {
          "output_type": "stream",
          "name": "stdout",
          "text": [
            "Generic animal sound\n",
            "Bark!\n"
          ]
        }
      ]
    },
    {
      "cell_type": "markdown",
      "source": [
        "2. Write a program to create an abstract class Shape with a method area(). Derive classes Circle and Rectangle from it and implement the area() method in both."
      ],
      "metadata": {
        "id": "qUmg4JFr47ew"
      }
    },
    {
      "cell_type": "code",
      "source": [
        "from abc import ABC, abstractmethod\n",
        "import math\n",
        "\n",
        "class Shape(ABC):\n",
        "    @abstractmethod\n",
        "    def area(self):\n",
        "        pass\n",
        "\n",
        "class Circle(Shape):\n",
        "    def __init__(self, radius):\n",
        "        self.radius = radius\n",
        "\n",
        "    def area(self):\n",
        "        return math.pi * self.radius**2\n",
        "\n",
        "class Rectangle(Shape):\n",
        "    def __init__(self, width, height):\n",
        "        self.width = width\n",
        "        self.height = height\n",
        "\n",
        "    def area(self):\n",
        "        return self.width * self.height\n",
        "\n",
        "circle = Circle(5)\n",
        "print(f\"Area of Circle: {circle.area()}\")\n",
        "\n",
        "rectangle = Rectangle(4, 6)\n",
        "print(f\"Area of Rectangle: {rectangle.area()}\")"
      ],
      "metadata": {
        "colab": {
          "base_uri": "https://localhost:8080/"
        },
        "id": "MQb3QsQB4_xR",
        "outputId": "6ee7dfd8-74b5-45ab-f624-49a98cda9082"
      },
      "execution_count": 4,
      "outputs": [
        {
          "output_type": "stream",
          "name": "stdout",
          "text": [
            "Area of Circle: 78.53981633974483\n",
            "Area of Rectangle: 24\n"
          ]
        }
      ]
    },
    {
      "cell_type": "markdown",
      "source": [
        "3.  Implement a multi-level inheritance scenario where a class Vehicle has an attribute type. Derive a class Car and further derive a class ElectricCar that adds a battery attribute."
      ],
      "metadata": {
        "id": "Bj7_tEUz5OTx"
      }
    },
    {
      "cell_type": "code",
      "metadata": {
        "colab": {
          "base_uri": "https://localhost:8080/"
        },
        "id": "80027068",
        "outputId": "e8f78c17-e6a5-462f-f7cc-7a2f3b05e583"
      },
      "source": [
        "class Vehicle:\n",
        "    def __init__(self, vehicle_type):\n",
        "        self.type = vehicle_type\n",
        "\n",
        "    def display_type(self):\n",
        "        print(f\"Vehicle Type: {self.type}\")\n",
        "\n",
        "class Car(Vehicle):\n",
        "    def __init__(self, vehicle_type, model):\n",
        "        super().__init__(vehicle_type)\n",
        "        self.model = model\n",
        "\n",
        "    def display_model(self):\n",
        "        print(f\"Car Model: {self.model}\")\n",
        "\n",
        "class ElectricCar(Car):\n",
        "    def __init__(self, vehicle_type, model, battery_capacity):\n",
        "        super().__init__(vehicle_type, model)\n",
        "        self.battery = battery_capacity\n",
        "\n",
        "    def display_battery(self):\n",
        "        print(f\"Battery Capacity: {self.battery} kWh\")\n",
        "\n",
        "vehicle = Vehicle(\"Generic\")\n",
        "vehicle.display_type()\n",
        "\n",
        "car = Car(\"Sedan\", \"Camry\")\n",
        "car.display_type()\n",
        "car.display_model()\n",
        "\n",
        "electric_car = ElectricCar(\"Sedan\", \"Model 3\", 75)\n",
        "electric_car.display_type()\n",
        "electric_car.display_model()\n",
        "electric_car.display_battery()"
      ],
      "execution_count": 5,
      "outputs": [
        {
          "output_type": "stream",
          "name": "stdout",
          "text": [
            "Vehicle Type: Generic\n",
            "Vehicle Type: Sedan\n",
            "Car Model: Camry\n",
            "Vehicle Type: Sedan\n",
            "Car Model: Model 3\n",
            "Battery Capacity: 75 kWh\n"
          ]
        }
      ]
    },
    {
      "cell_type": "markdown",
      "source": [
        "4.  Demonstrate polymorphism by creating a base class Bird with a method fly(). Create two derived classes\n",
        "Sparrow and Penguin that override the fly() method."
      ],
      "metadata": {
        "id": "P3WPeiPe5ymG"
      }
    },
    {
      "cell_type": "code",
      "source": [
        "class Bird:\n",
        "    def fly(self):\n",
        "        print(\"Most birds can fly\")\n",
        "\n",
        "class Sparrow(Bird):\n",
        "    def fly(self):\n",
        "        print(\"Sparrows can fly short distances\")\n",
        "\n",
        "class Penguin(Bird):\n",
        "    def fly(self):\n",
        "        print(\"Penguins cannot fly\")\n",
        "\n",
        "# Demonstrate polymorphism\n",
        "birds = [Bird(), Sparrow(), Penguin()]\n",
        "\n",
        "for bird in birds:\n",
        "    bird.fly()"
      ],
      "metadata": {
        "colab": {
          "base_uri": "https://localhost:8080/"
        },
        "id": "FBuRzhHz51d9",
        "outputId": "581df57b-70ac-4b44-f7dc-c366855204c6"
      },
      "execution_count": 6,
      "outputs": [
        {
          "output_type": "stream",
          "name": "stdout",
          "text": [
            "Most birds can fly\n",
            "Sparrows can fly short distances\n",
            "Penguins cannot fly\n"
          ]
        }
      ]
    },
    {
      "cell_type": "markdown",
      "source": [
        "5. Write a program to demonstrate encapsulation by creating a class BankAccount with private attributes\n",
        "balance and methods to deposit, withdraw, and check balance."
      ],
      "metadata": {
        "id": "9XENRAdL57rN"
      }
    },
    {
      "cell_type": "code",
      "metadata": {
        "colab": {
          "base_uri": "https://localhost:8080/"
        },
        "id": "2e47a4ea",
        "outputId": "66debd14-58c7-4db2-ff70-a492cc3c2134"
      },
      "source": [
        "class BankAccount:\n",
        "    def __init__(self, account_holder, initial_balance=0):\n",
        "        self.account_holder = account_holder\n",
        "        # Private attribute for balance (convention using double underscore)\n",
        "        self.__balance = initial_balance\n",
        "\n",
        "    def deposit(self, amount):\n",
        "        if amount > 0:\n",
        "            self.__balance += amount\n",
        "            print(f\"Deposited: ${amount}. New balance: ${self.__balance}\")\n",
        "        else:\n",
        "            print(\"Deposit amount must be positive.\")\n",
        "\n",
        "    def withdraw(self, amount):\n",
        "        if amount > 0:\n",
        "            if self.__balance >= amount:\n",
        "                self.__balance -= amount\n",
        "                print(f\"Withdrew: ${amount}. New balance: ${self.__balance}\")\n",
        "            else:\n",
        "                print(\"Insufficient funds.\")\n",
        "        else:\n",
        "            print(\"Withdrawal amount must be positive.\")\n",
        "\n",
        "    def check_balance(self):\n",
        "        print(f\"Current balance: ${self.__balance}\")\n",
        "\n",
        "account = BankAccount(\"Alice\", 1000)\n",
        "account.check_balance()\n",
        "\n",
        "account.deposit(500)\n",
        "account.withdraw(200)\n",
        "account.check_balance()\n",
        "\n"
      ],
      "execution_count": 7,
      "outputs": [
        {
          "output_type": "stream",
          "name": "stdout",
          "text": [
            "Current balance: $1000\n",
            "Deposited: $500. New balance: $1500\n",
            "Withdrew: $200. New balance: $1300\n",
            "Current balance: $1300\n"
          ]
        }
      ]
    },
    {
      "cell_type": "markdown",
      "source": [
        "6.  Demonstrate runtime polymorphism using a method play() in a base class Instrument. Derive classes Guitar and Piano that implement their own version of play()."
      ],
      "metadata": {
        "id": "nyyT2Ids6H70"
      }
    },
    {
      "cell_type": "code",
      "metadata": {
        "colab": {
          "base_uri": "https://localhost:8080/"
        },
        "id": "f4030c5a",
        "outputId": "18d21649-5d2e-4ff6-a1db-59ed808d05be"
      },
      "source": [
        "class Instrument:\n",
        "    def play(self):\n",
        "        print(\"Playing an instrument\")\n",
        "\n",
        "class Guitar(Instrument):\n",
        "    def play(self):\n",
        "        print(\"Strumming the guitar\")\n",
        "\n",
        "class Piano(Instrument):\n",
        "    def play(self):\n",
        "        print(\"Playing the piano keys\")\n",
        "\n",
        "\n",
        "instruments = [Instrument(), Guitar(), Piano()]\n",
        "\n",
        "for instrument in instruments:\n",
        "    instrument.play()"
      ],
      "execution_count": 8,
      "outputs": [
        {
          "output_type": "stream",
          "name": "stdout",
          "text": [
            "Playing an instrument\n",
            "Strumming the guitar\n",
            "Playing the piano keys\n"
          ]
        }
      ]
    },
    {
      "cell_type": "markdown",
      "source": [
        "7.  Create a class MathOperations with a class method add_numbers() to add two numbers and a static\n",
        "method subtract_numbers() to subtract two numbers"
      ],
      "metadata": {
        "id": "J7IlcsnE6UdX"
      }
    },
    {
      "cell_type": "code",
      "source": [
        "class MathOperations:\n",
        "    @classmethod\n",
        "    def add_numbers(cls, x, y):\n",
        "        \"\"\"Class method to add two numbers.\"\"\"\n",
        "        print(f\"Adding using class method: {cls.__name__}\")\n",
        "        return x + y\n",
        "\n",
        "    @staticmethod\n",
        "    def subtract_numbers(x, y):\n",
        "        \"\"\"Static method to subtract two numbers.\"\"\"\n",
        "        print(\"Subtracting using static method\")\n",
        "        return x - y\n",
        "\n",
        "sum_result = MathOperations.add_numbers(10, 5)\n",
        "print(f\"Sum: {sum_result}\")\n",
        "\n",
        "difference_result = MathOperations.subtract_numbers(10, 5)\n",
        "print(f\"Difference: {difference_result}\")\n",
        "\n"
      ],
      "metadata": {
        "colab": {
          "base_uri": "https://localhost:8080/"
        },
        "id": "nPMT6kFc6Yri",
        "outputId": "6f797a9c-f807-40d2-c64d-d9e311e5561d"
      },
      "execution_count": 9,
      "outputs": [
        {
          "output_type": "stream",
          "name": "stdout",
          "text": [
            "Adding using class method: MathOperations\n",
            "Sum: 15\n",
            "Subtracting using static method\n",
            "Difference: 5\n"
          ]
        }
      ]
    },
    {
      "cell_type": "markdown",
      "source": [
        "8. Implement a class Person with a class method to count the total number of persons created."
      ],
      "metadata": {
        "id": "m1gemGka6meH"
      }
    },
    {
      "cell_type": "code",
      "source": [
        "class Person:\n",
        "    total_persons = 0\n",
        "\n",
        "    def __init__(self, name):\n",
        "        self.name = name\n",
        "        Person.total_persons += 1\n",
        "    @classmethod\n",
        "    def get_total_persons(cls):\n",
        "        \"\"\"Class method to get the total number of persons created.\"\"\"\n",
        "        return cls.total_persons\n",
        "\n",
        "person1 = Person(\"Alice\")\n",
        "person2 = Person(\"Bob\")\n",
        "person3 = Person(\"Charlie\")\n",
        "\n",
        "print(f\"Total number of persons created: {Person.get_total_persons()}\")\n",
        "\n"
      ],
      "metadata": {
        "colab": {
          "base_uri": "https://localhost:8080/"
        },
        "id": "x12spocy6prw",
        "outputId": "d58cdffc-9b13-4d97-e562-9d9d138e8794"
      },
      "execution_count": 10,
      "outputs": [
        {
          "output_type": "stream",
          "name": "stdout",
          "text": [
            "Total number of persons created: 3\n"
          ]
        }
      ]
    },
    {
      "cell_type": "markdown",
      "source": [
        "9.  Write a class Fraction with attributes numerator and denominator. Override the str method to display the\n",
        "fraction as \"numerator/denominator\""
      ],
      "metadata": {
        "id": "Bv8DY18a6xzd"
      }
    },
    {
      "cell_type": "code",
      "source": [
        "class Fraction:\n",
        "    def __init__(self, numerator, denominator):\n",
        "        if denominator == 0:\n",
        "            raise ValueError(\"Denominator cannot be zero\")\n",
        "        self.numerator = numerator\n",
        "        self.denominator = denominator\n",
        "\n",
        "    def __str__(self):\n",
        "        \"\"\"Overrides the string representation for the end-user.\"\"\"\n",
        "        return f\"{self.numerator}/{self.denominator}\"\n",
        "\n",
        "    def __repr__(self):\n",
        "        \"\"\"Provides an unambiguous representation for developers.\"\"\"\n",
        "        return f\"Fraction({self.numerator}, {self.denominator})\"\n",
        "\n",
        "fraction1 = Fraction(3, 4)\n",
        "print(fraction1)\n",
        "\n",
        "fraction2 = Fraction(1, 2)\n",
        "print(str(fraction2))"
      ],
      "metadata": {
        "colab": {
          "base_uri": "https://localhost:8080/"
        },
        "id": "33i_6Riv7m40",
        "outputId": "03c02d9e-d916-466d-f26d-0015b1b68330"
      },
      "execution_count": 11,
      "outputs": [
        {
          "output_type": "stream",
          "name": "stdout",
          "text": [
            "3/4\n",
            "1/2\n"
          ]
        }
      ]
    },
    {
      "cell_type": "markdown",
      "source": [
        "10.Demonstrate operator overloading by creating a class Vector and overriding the add method to add two\n",
        "vectors."
      ],
      "metadata": {
        "id": "8_1O0PAB7ybl"
      }
    },
    {
      "cell_type": "code",
      "metadata": {
        "colab": {
          "base_uri": "https://localhost:8080/"
        },
        "id": "c641cca3",
        "outputId": "f98b4f57-fe30-4be0-f430-8a68cd2255ea"
      },
      "source": [
        "class Vector:\n",
        "    def __init__(self, x, y):\n",
        "        self.x = x\n",
        "        self.y = y\n",
        "\n",
        "    def __str__(self):\n",
        "        \"\"\"String representation for the end-user.\"\"\"\n",
        "        return f\"({self.x}, {self.y})\"\n",
        "\n",
        "    def __repr__(self):\n",
        "        \"\"\"Unambiguous representation for developers.\"\"\"\n",
        "        return f\"Vector({self.x}, {self.y})\"\n",
        "\n",
        "    def __add__(self, other):\n",
        "        \"\"\"Overload the + operator to add two Vector objects.\"\"\"\n",
        "        if isinstance(other, Vector):\n",
        "            return Vector(self.x + other.x, self.y + other.y)\n",
        "        else:\n",
        "            raise TypeError(\"Can only add a Vector object to another Vector object.\")\n",
        "\n",
        "vector1 = Vector(2, 3)\n",
        "vector2 = Vector(1, -1)\n",
        "\n",
        "vector3 = vector1 + vector2\n",
        "print(f\"Vector 1: {vector1}\")\n",
        "print(f\"Vector 2: {vector2}\")\n",
        "print(f\"Vector 1 + Vector 2: {vector3}\")\n",
        "\n"
      ],
      "execution_count": 12,
      "outputs": [
        {
          "output_type": "stream",
          "name": "stdout",
          "text": [
            "Vector 1: (2, 3)\n",
            "Vector 2: (1, -1)\n",
            "Vector 1 + Vector 2: (3, 2)\n"
          ]
        }
      ]
    },
    {
      "cell_type": "markdown",
      "source": [
        "11.  Create a class Person with attributes name and age. Add a method greet() that prints \"Hello, my name is {name} and I am {age} years old."
      ],
      "metadata": {
        "id": "MNriHVpJ772R"
      }
    },
    {
      "cell_type": "code",
      "source": [
        "class Person:\n",
        "    def __init__(self, name, age):\n",
        "        self.name = name\n",
        "        self.age = age\n",
        "\n",
        "    def greet(self):\n",
        "        \"\"\"Prints a greeting message.\"\"\"\n",
        "        print(f\"Hello, my name is {self.name} and I am {self.age} years old.\")\n",
        "\n",
        "person1 = Person(\"Alice\", 30)\n",
        "person1.greet()\n",
        "\n",
        "person2 = Person(\"Bob\", 25)\n",
        "person2.greet()"
      ],
      "metadata": {
        "colab": {
          "base_uri": "https://localhost:8080/"
        },
        "id": "h1Frqbd78L1n",
        "outputId": "b6434b88-d3c0-48a0-e131-7921c4c9f0b1"
      },
      "execution_count": 13,
      "outputs": [
        {
          "output_type": "stream",
          "name": "stdout",
          "text": [
            "Hello, my name is Alice and I am 30 years old.\n",
            "Hello, my name is Bob and I am 25 years old.\n"
          ]
        }
      ]
    },
    {
      "cell_type": "markdown",
      "source": [
        "12.  Implement a class Student with attributes name and grades. Create a method average_grade() to compute\n",
        "the average of the grades."
      ],
      "metadata": {
        "id": "uYbZjzLS8TXm"
      }
    },
    {
      "cell_type": "code",
      "metadata": {
        "colab": {
          "base_uri": "https://localhost:8080/"
        },
        "id": "8fe5fc62",
        "outputId": "1f86e678-ab31-4f51-eee8-905f2c59c696"
      },
      "source": [
        "class Student:\n",
        "    def __init__(self, name, grades):\n",
        "        self.name = name\n",
        "        self.grades = grades\n",
        "\n",
        "    def average_grade(self):\n",
        "        \"\"\"Computes the average of the student's grades.\"\"\"\n",
        "        if not self.grades:\n",
        "            return 0\n",
        "        return sum(self.grades) / len(self.grades)\n",
        "\n",
        "student1 = Student(\"Alice\", [85, 90, 78, 92])\n",
        "print(f\"{student1.name}'s average grade: {student1.average_grade()}\")\n",
        "\n",
        "student2 = Student(\"Bob\", [70, 75, 80])\n",
        "print(f\"{student2.name}'s average grade: {student2.average_grade()}\")\n",
        "\n",
        "student3 = Student(\"Charlie\", [])\n",
        "print(f\"{student3.name}'s average grade: {student3.average_grade()}\")"
      ],
      "execution_count": 14,
      "outputs": [
        {
          "output_type": "stream",
          "name": "stdout",
          "text": [
            "Alice's average grade: 86.25\n",
            "Bob's average grade: 75.0\n",
            "Charlie's average grade: 0\n"
          ]
        }
      ]
    },
    {
      "cell_type": "markdown",
      "source": [
        "13.Create a class Rectangle with methods set_dimensions() to set the dimensions and area() to calculate the\n",
        "area."
      ],
      "metadata": {
        "id": "Esxb5Ay68dQm"
      }
    },
    {
      "cell_type": "code",
      "source": [
        "class Rectangle:\n",
        "    def __init__(self, width=0, height=0):\n",
        "        self.width = width\n",
        "        self.height = height\n",
        "\n",
        "    def set_dimensions(self, width, height):\n",
        "        \"\"\"Sets the dimensions of the rectangle.\"\"\"\n",
        "        if width >= 0 and height >= 0:\n",
        "            self.width = width\n",
        "            self.height = height\n",
        "        else:\n",
        "            print(\"Dimensions must be non-negative.\")\n",
        "\n",
        "    def area(self):\n",
        "        \"\"\"Calculates the area of the rectangle.\"\"\"\n",
        "        return self.width * self.height\n",
        "\n",
        "rectangle1 = Rectangle()\n",
        "rectangle1.set_dimensions(5, 10)\n",
        "print(f\"Area of rectangle 1: {rectangle1.area()}\")\n",
        "\n",
        "rectangle2 = Rectangle(3, 7)\n",
        "print(f\"Area of rectangle 2: {rectangle2.area()}\")\n",
        "\n",
        "rectangle1.set_dimensions(6, 8)\n",
        "print(f\"New area of rectangle 1: {rectangle1.area()}\")"
      ],
      "metadata": {
        "colab": {
          "base_uri": "https://localhost:8080/"
        },
        "id": "ttQJQTXj8i-c",
        "outputId": "ce3a5e77-bffd-45ab-b1ec-a4a86fc4a103"
      },
      "execution_count": 15,
      "outputs": [
        {
          "output_type": "stream",
          "name": "stdout",
          "text": [
            "Area of rectangle 1: 50\n",
            "Area of rectangle 2: 21\n",
            "New area of rectangle 1: 48\n"
          ]
        }
      ]
    },
    {
      "cell_type": "markdown",
      "source": [
        "14. Create a class Employee with a method calculate_salary() that computes the salary based on hours worked and hourly rate. Create a derived class Manager that adds a bonus to the salary."
      ],
      "metadata": {
        "id": "EwBHxsOm8qHI"
      }
    },
    {
      "cell_type": "code",
      "metadata": {
        "colab": {
          "base_uri": "https://localhost:8080/"
        },
        "id": "915878fb",
        "outputId": "1d91458a-d93d-43e3-a59f-245b9b9ca08d"
      },
      "source": [
        "class Employee:\n",
        "    def __init__(self, name, hours_worked, hourly_rate):\n",
        "        self.name = name\n",
        "        self.hours_worked = hours_worked\n",
        "        self.hourly_rate = hourly_rate\n",
        "\n",
        "    def calculate_salary(self):\n",
        "        \"\"\"Computes the salary based on hours worked and hourly rate.\"\"\"\n",
        "        return self.hours_worked * self.hourly_rate\n",
        "\n",
        "class Manager(Employee):\n",
        "    def __init__(self, name, hours_worked, hourly_rate, bonus):\n",
        "        super().__init__(name, hours_worked, hourly_rate)\n",
        "        self.bonus = bonus\n",
        "\n",
        "    def calculate_salary(self):\n",
        "        \"\"\"Computes the salary including a bonus.\"\"\"\n",
        "        base_salary = super().calculate_salary()\n",
        "        return base_salary + self.bonus\n",
        "\n",
        "employee = Employee(\"Alice\", 40, 20)\n",
        "print(f\"{employee.name}'s salary: ${employee.calculate_salary()}\")\n",
        "\n",
        "manager = Manager(\"Bob\", 40, 25, 500)\n",
        "print(f\"{manager.name}'s salary: ${manager.calculate_salary()}\")"
      ],
      "execution_count": 16,
      "outputs": [
        {
          "output_type": "stream",
          "name": "stdout",
          "text": [
            "Alice's salary: $800\n",
            "Bob's salary: $1500\n"
          ]
        }
      ]
    },
    {
      "cell_type": "markdown",
      "source": [
        "15. Create a class Product with attributes name, price, and quantity. Implement a method total_price() that calculates the total price of the product."
      ],
      "metadata": {
        "id": "4vRJGic585b7"
      }
    },
    {
      "cell_type": "code",
      "metadata": {
        "colab": {
          "base_uri": "https://localhost:8080/"
        },
        "id": "2257ae61",
        "outputId": "ce066e84-b847-4b10-dc57-a692b89c2d14"
      },
      "source": [
        "class Product:\n",
        "    def __init__(self, name, price, quantity):\n",
        "        self.name = name\n",
        "        self.price = price\n",
        "        self.quantity = quantity\n",
        "\n",
        "    def total_price(self):\n",
        "        \"\"\"Calculates the total price of the product.\"\"\"\n",
        "        return self.price * self.quantity\n",
        "\n",
        "product1 = Product(\"Laptop\", 1200, 2)\n",
        "print(f\"Product: {product1.name}\")\n",
        "print(f\"Total price: ${product1.total_price()}\")\n",
        "\n",
        "product2 = Product(\"Mouse\", 25, 10)\n",
        "print(f\"Product: {product2.name}\")\n",
        "print(f\"Total price: ${product2.total_price()}\")"
      ],
      "execution_count": 17,
      "outputs": [
        {
          "output_type": "stream",
          "name": "stdout",
          "text": [
            "Product: Laptop\n",
            "Total price: $2400\n",
            "Product: Mouse\n",
            "Total price: $250\n"
          ]
        }
      ]
    },
    {
      "cell_type": "markdown",
      "source": [
        "16. Create a class Animal with an abstract method sound(). Create two derived classes Cow and Sheep that\n",
        "implement the sound() method."
      ],
      "metadata": {
        "id": "HQ2F_P7P9Cuq"
      }
    },
    {
      "cell_type": "code",
      "metadata": {
        "colab": {
          "base_uri": "https://localhost:8080/"
        },
        "id": "e312de25",
        "outputId": "2111df24-c560-45d1-da37-e411fc3a2e2b"
      },
      "source": [
        "from abc import ABC, abstractmethod\n",
        "\n",
        "class Animal(ABC):\n",
        "    @abstractmethod\n",
        "    def sound(self):\n",
        "        pass\n",
        "\n",
        "class Cow(Animal):\n",
        "    def sound(self):\n",
        "        print(\"Moo!\")\n",
        "\n",
        "class Sheep(Animal):\n",
        "    def sound(self):\n",
        "        print(\"Baa!\")\n",
        "\n",
        "\n",
        "cow = Cow()\n",
        "cow.sound()\n",
        "\n",
        "sheep = Sheep()\n",
        "sheep.sound()\n",
        "\n",
        "animals = [Cow(), Sheep()]\n",
        "for animal in animals:\n",
        "    animal.sound()"
      ],
      "execution_count": 18,
      "outputs": [
        {
          "output_type": "stream",
          "name": "stdout",
          "text": [
            "Moo!\n",
            "Baa!\n",
            "Moo!\n",
            "Baa!\n"
          ]
        }
      ]
    },
    {
      "cell_type": "markdown",
      "source": [
        "17. Create a class Book with attributes title, author, and year_published. Add a method get_book_info() that\n",
        "returns a formatted string with the book's details."
      ],
      "metadata": {
        "id": "mqgF7Saj9MdC"
      }
    },
    {
      "cell_type": "code",
      "metadata": {
        "colab": {
          "base_uri": "https://localhost:8080/"
        },
        "id": "a88d15ff",
        "outputId": "9559b1e6-8304-44f3-8f9b-9cf5c16c54a0"
      },
      "source": [
        "class Book:\n",
        "    def __init__(self, title, author, year_published):\n",
        "        self.title = title\n",
        "        self.author = author\n",
        "        self.year_published = year_published\n",
        "\n",
        "    def get_book_info(self):\n",
        "        \"\"\"Returns a formatted string with the book's details.\"\"\"\n",
        "        return f\"Title: {self.title}, Author: {self.author}, Year Published: {self.year_published}\"\n",
        "\n",
        "book1 = Book(\"The Hitchhiker's Guide to the Galaxy\", \"Douglas Adams\", 1979)\n",
        "print(book1.get_book_info())\n",
        "\n",
        "book2 = Book(\"Pride and Prejudice\", \"Jane Austen\", 1813)\n",
        "print(book2.get_book_info())"
      ],
      "execution_count": 19,
      "outputs": [
        {
          "output_type": "stream",
          "name": "stdout",
          "text": [
            "Title: The Hitchhiker's Guide to the Galaxy, Author: Douglas Adams, Year Published: 1979\n",
            "Title: Pride and Prejudice, Author: Jane Austen, Year Published: 1813\n"
          ]
        }
      ]
    },
    {
      "cell_type": "markdown",
      "source": [
        "18. Create a class House with attributes address and price. Create a derived class Mansion that adds an\n",
        "attribute number_of_rooms."
      ],
      "metadata": {
        "id": "qEzYJSTS9Vzr"
      }
    },
    {
      "cell_type": "code",
      "metadata": {
        "colab": {
          "base_uri": "https://localhost:8080/"
        },
        "id": "25249e37",
        "outputId": "b2e6d91c-55c4-4968-9619-eb87318a49bb"
      },
      "source": [
        "class House:\n",
        "    def __init__(self, address, price):\n",
        "        self.address = address\n",
        "        self.price = price\n",
        "\n",
        "    def display_info(self):\n",
        "        print(f\"Address: {self.address}, Price: ${self.price}\")\n",
        "\n",
        "class Mansion(House):\n",
        "    def __init__(self, address, price, number_of_rooms):\n",
        "        super().__init__(address, price)\n",
        "        self.number_of_rooms = number_of_rooms\n",
        "\n",
        "    def display_info(self):\n",
        "        super().display_info()\n",
        "        print(f\"Number of Rooms: {self.number_of_rooms}\")\n",
        "\n",
        "\n",
        "house = House(\"123 Main St\", 300000)\n",
        "house.display_info()\n",
        "\n",
        "print(\"-\" * 20)\n",
        "\n",
        "mansion = Mansion(\"456 Oak Ave\", 1500000, 10)\n",
        "mansion.display_info()"
      ],
      "execution_count": 20,
      "outputs": [
        {
          "output_type": "stream",
          "name": "stdout",
          "text": [
            "Address: 123 Main St, Price: $300000\n",
            "--------------------\n",
            "Address: 456 Oak Ave, Price: $1500000\n",
            "Number of Rooms: 10\n"
          ]
        }
      ]
    }
  ]
}